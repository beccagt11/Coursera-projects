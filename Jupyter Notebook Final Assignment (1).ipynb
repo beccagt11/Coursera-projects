{
  "metadata": {
    "language_info": {
      "codemirror_mode": {
        "name": "python",
        "version": 3
      },
      "file_extension": ".py",
      "mimetype": "text/x-python",
      "name": "python",
      "nbconvert_exporter": "python",
      "pygments_lexer": "ipython3",
      "version": "3.8"
    },
    "kernelspec": {
      "name": "python",
      "display_name": "Pyolite",
      "language": "python"
    }
  },
  "nbformat_minor": 4,
  "nbformat": 4,
  "cells": [
    {
      "cell_type": "markdown",
      "source": "# My Jupyter Notebook on IBM Watson Studio",
      "metadata": {}
    },
    {
      "cell_type": "markdown",
      "source": "**Rebecca Thurston**\nScientist",
      "metadata": {}
    },
    {
      "cell_type": "markdown",
      "source": "*I am interested in data science because it will expand my skillset for my current role, as well as help me advance in the industry.*",
      "metadata": {}
    },
    {
      "cell_type": "markdown",
      "source": "### The following code includes the basic addition of two numbers",
      "metadata": {}
    },
    {
      "cell_type": "code",
      "source": "4+7",
      "metadata": {
        "trusted": true
      },
      "execution_count": 1,
      "outputs": [
        {
          "execution_count": 1,
          "output_type": "execute_result",
          "data": {
            "text/plain": "11"
          },
          "metadata": {}
        }
      ]
    },
    {
      "cell_type": "markdown",
      "source": "The table below includes:\n    1. Name of animal\n    2. Number of legs\n    3. Whether the animal is a mammal or not\n***************************************************************************************************************\n| Animal | # of legs | Mammal? |\n| ------ | --------- | ------- |\n| dog    | 4         | yes     |\n| frog   | 4         | no      |\n| parrot | 2         | no      |",
      "metadata": {}
    }
  ]
}